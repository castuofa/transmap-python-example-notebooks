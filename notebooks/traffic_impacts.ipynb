{
  "metadata": {
    "language_info": {
      "codemirror_mode": {
        "name": "python",
        "version": 3
      },
      "file_extension": ".py",
      "mimetype": "text/x-python",
      "name": "python",
      "nbconvert_exporter": "python",
      "pygments_lexer": "ipython3",
      "version": "3.8"
    },
    "kernelspec": {
      "name": "python",
      "display_name": "Python (Pyodide)",
      "language": "python"
    }
  },
  "nbformat_minor": 4,
  "nbformat": 4,
  "cells": [
    {
      "cell_type": "code",
      "source": "from transmap import TransMAP\nimport pandas as pd\nimport numpy as np\ntm = TransMAP('https://oak.cast.uark.edu/metadata-api')\n\ndatasets_AIS = tm.search('\"AIS Freight\"')\ndatasets_locks = tm.search('\"Locks\"')\n\ndata_locks= tm.fetch(datasets_locks[0])\nArkansas_locks = data_locks[(data_locks.pmsname == 'WEBBERS FALLS LOCK & DAM') | (data_locks.pmsname == 'W.D. MAYO LOCK & DAM') | (data_locks.pmsname == 'JAMES W. TRIMBLE LOCK & DAM') | (data_locks.pmsname == 'OZARK LOCK & DAM') | (data_locks.pmsname =='DARDANELLE LOCK & DAM') | (data_locks.pmsname =='ARTHUR V. ORMOND L & D')]\n",
      "metadata": {},
      "execution_count": null,
      "outputs": []
    },
    {
      "cell_type": "code",
      "source": "df_2017 = pd.DataFrame()\ndf_2018 = pd.DataFrame()\ndf_2019 = pd.DataFrame()",
      "metadata": {},
      "execution_count": null,
      "outputs": []
    },
    {
      "cell_type": "code",
      "source": "for lock in Arkansas_locks:\n    bbox = [lock[49]-.1,lock[50]-.1,lock[49]+.1,lock[50]+.1]\n    ais_2017_by_lock_df = tm.fetch(datasets_AIS[0], bounding_box = bbox, start_date= \"5/25/2017 12:00:00 AM\", end_date=\"6/05/2017 11:59:59 PM\")\n    ais_2017_by_lock_df['date']=ais_2017_by_lock_df['BaseDateTime'].dt.date\n    ais_2017_by_lock_df.groupby(['date', 'MMSI']).agg({'BaseDateTime' : {'min_basedate': np.min, 'max_basedate': np.max}})\n    ais_2017_by_lock_df['lock_name'] = lock[14]\n    df_2017.append(ais_2017_by_lock_df)\n\n    ais_2018_by_lock_df = tm.fetch(datasets_AIS[0], bbox=bbox, start_date=\"5/25/2018 12:00:00 AM\",end_date=\"6/15/2018 11:59:59 PM\")\n    ais_2018_by_lock_df['date'] = ais_2018_by_lock_df['BaseDateTime'].dt.date\n    ais_2018_by_lock_df.groupby(['date', 'MMSI']).agg({'BaseDateTime': {'min_basedate': np.min, 'max_basedate': np.max}})\n    ais_2018_by_lock_df['lock_name'] = lock[14]\n    df_2018.append(ais_2018_by_lock_df)\n\n    ais_2019_by_lock_df = tm.fetch(datasets_AIS[0], bbox=bbox, start_date=\"5/25/2019 12:00:00 AM\",end_date=\"8/15/2019 11:59:59 PM\")\n    ais_2019_by_lock_df['date'] = ais_2019_by_lock_df['BaseDateTime'].dt.date\n    ais_2019_by_lock_df.groupby(['date', 'MMSI']).agg({'BaseDateTime': {'min_basedate': np.min, 'max_basedate': np.max}})\n    ais_2019_by_lock_df['lock_name'] = lock[14]\n    df_2019.append(ais_2019_by_lock_df)",
      "metadata": {},
      "execution_count": null,
      "outputs": []
    },
    {
      "cell_type": "code",
      "source": "df_2017.sort_values(by=['MMSI', 'min_basedate'])\ndf_2018.sort_values(by=['MMSI', 'min_basedate'])\ndf_2019.sort_values(by=['MMSI', 'min_basedate'])",
      "metadata": {},
      "execution_count": null,
      "outputs": []
    },
    {
      "cell_type": "code",
      "source": "lock_2_lock_2017 = []\ntravel_time_2017 = []\nfor i in range(df_2017.shape[0]):\n    if (i>0) & (df_2017.at[i-1, 'lock_name'] != df_2017.at[i, 'lock_name']):\n        lock_2_lock_2017.append(df_2017.at[i-1, 'lock_name'] + \"_\" + df_2017.at[i, 'lock_name'])\n        travel_time_2017.append(df_2017.at[i, 'BaseDateTime'] - df_2017.at[i-1, 'BaseDateTime'])\n    else:\n        lock_2_lock_2017.append(\"\")\n        travel_time_2017.append(\"\")",
      "metadata": {},
      "execution_count": null,
      "outputs": []
    },
    {
      "cell_type": "code",
      "source": "lock_2_lock_2018 = []\ntravel_time_2018 = []\nfor i in range(df_2018.shape[0]):\n    if (i>0) & (df_2018.at[i-1, 'lock_name'] != df_2018.at[i, 'lock_name']):\n        lock_2_lock_2018.append(df_2018.at[i-1, 'lock_name'] + \"_\" + df_2018.at[i, 'lock_name'])\n        travel_time_2018.append(df_2018.at[i, 'BaseDateTime'] - df_2018.at[i-1, 'BaseDateTime'])\n    else:\n        lock_2_lock_2018.append(\"\")\n        travel_time_2018.append(\"\")",
      "metadata": {},
      "execution_count": null,
      "outputs": []
    },
    {
      "cell_type": "code",
      "source": "lock_2_lock_2019 = []\ntravel_time_2019 = []\nfor i in range(df_2019.shape[0]):\n    if (i>0) & (df_2019.at[i-1, 'lock_name'] != df_2019.at[i, 'lock_name']):\n        lock_2_lock_2019.append(df_2019.at[i-1, 'lock_name'] + \"_\" + df_2019.at[i, 'lock_name'])\n        travel_time_2019.append(df_2019.at[i, 'BaseDateTime'] - df_2019.at[i-1, 'BaseDateTime'])\n    else:\n        lock_2_lock_2019.append(\"\")\n        travel_time_2019.append(\"\")",
      "metadata": {},
      "execution_count": null,
      "outputs": []
    },
    {
      "cell_type": "code",
      "source": "df_2017['lock_2_lock'] = lock_2_lock_2017\ndf_2018['lock_2_lock'] = lock_2_lock_2018\ndf_2019['lock_2_lock'] = lock_2_lock_2019",
      "metadata": {},
      "execution_count": null,
      "outputs": []
    },
    {
      "cell_type": "code",
      "source": "df_2017['travel_time'] = travel_time_2017\ndf_2018['travel_time'] = travel_time_2018\ndf_2019['travel_time'] = travel_time_2019",
      "metadata": {},
      "execution_count": null,
      "outputs": []
    },
    {
      "cell_type": "code",
      "source": "df_2017_mean = df_2017.groupby(\"lock_2_loc\")[\"travel_time\"].mean()\ndf_2018_mean = df_2018.groupby(\"lock_2_lock\")[\"travel_time\"].mean()\ndf_2019_mean = df_2019.groupby(\"lock_2_lock\")[\"travel_time\"].mean()",
      "metadata": {},
      "execution_count": null,
      "outputs": []
    },
    {
      "cell_type": "code",
      "source": "df_matrix_2017 = pd.DataFrame(index=Arkansas_locks['pmsname'], columns=Arkansas_locks['pmsname'])\ndf_matrix_2018 = pd.DataFrame(index=Arkansas_locks['pmsname'], columns=Arkansas_locks['pmsname'])\ndf_matrix_2019 = pd.DataFrame(index=Arkansas_locks['pmsname'], columns=Arkansas_locks['pmsname'])",
      "metadata": {},
      "execution_count": null,
      "outputs": []
    },
    {
      "cell_type": "code",
      "source": "for i, row in df_matrix_2017:  #row\n    for j, row in df_matrix_2017: # col\n        name = \"\".join([i,\"_\", j])\n        if (name in df_2017_mean['lock_2_loc'].values):\n            df_matrix_2017[j][i] = df_2017_mean.loc[df_2017_mean['lock_2_loc'] == name, 'travel_time'].iloc[0]",
      "metadata": {},
      "execution_count": null,
      "outputs": []
    }
  ]
}