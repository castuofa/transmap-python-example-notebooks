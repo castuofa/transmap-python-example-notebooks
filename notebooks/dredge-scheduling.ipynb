{
 "cells": [
  {
   "cell_type": "code",
   "execution_count": 1,
   "id": "05c97656",
   "metadata": {},
   "outputs": [],
   "source": [
    "from ortools.sat.python import cp_model\n",
    "import requests\n",
    "import numpy as np\n",
    "import pandas as pd\n",
    "import geopandas as gpd\n",
    "import folium\n",
    "from shapely.geometry import Point, LineString, Polygon\n",
    "from datetime import datetime, timedelta\n",
    "import matplotlib.pyplot as plt\n",
    "import transmap\n",
    "import psycopg2\n",
    "from pymongo import MongoClient\n",
    "import math"
   ]
  },
  {
   "cell_type": "markdown",
   "id": "bc059669",
   "metadata": {},
   "source": [
    "# COE Dredge Data Processing"
   ]
  },
  {
   "cell_type": "code",
   "execution_count": null,
   "id": "fa9c4f06",
   "metadata": {},
   "outputs": [],
   "source": [
    "psql_conn = psycopg2.connect(host = \"compass.cast.uark.edu\",\n",
    "                        database = \"transmap\",\n",
    "                        user = \"transmapRead\",\n",
    "                        password = \"2ogHwuEbJi7n0UfxAiz5YrtUCcqXzF\",\n",
    "                        port = 5432)\n",
    "cur = psql_conn.cursor()"
   ]
  },
  {
   "cell_type": "code",
   "execution_count": null,
   "id": "4864ad95",
   "metadata": {},
   "outputs": [],
   "source": [
    "sql = \"select * from usace.coe_dredge_locations;\"\n",
    "coe_dredge_data = gpd.read_postgis(sql=sql, con=psql_conn, geom_col='geometry')\n",
    "dredge_dict = {\n",
    "    'B': 'Bucket',\n",
    "    'D': 'Dustpan',\n",
    "    'H': 'Hopper',\n",
    "    'I': 'Water Injection',\n",
    "    'N': 'Non-Conventional',\n",
    "    'P': 'Pipeline',\n",
    "    'U': 'Unknown',\n",
    "    'S': 'Sidecaster',\n",
    "    'W': 'Combo all types',\n",
    "    'X': 'Pipeline + Bucket',\n",
    "    'Y': 'Pipeline + Hopper',\n",
    "    'Z': 'Hopper + Bucket'\n",
    "}\n",
    "coe_dredge_data['start_date'] = coe_dredge_data['STARTDAT']\n",
    "coe_dredge_data['end_date'] = coe_dredge_data['STOPDAT']\n",
    "coe_dredge_data['dredge_name'] = coe_dredge_data['PRDRNAME']\n",
    "coe_dredge_data['job_name'] = coe_dredge_data['JOBNAME']\n",
    "coe_dredge_data['district_name'] = coe_dredge_data['DISTNAME']\n",
    "coe_dredge_data['dredge_type'] = coe_dredge_data['PRDRTYPE'].map(dredge_dict)\n",
    "coe_dredge_data.loc[coe_dredge_data['dredge_type'].isnull(), 'dredge_type'] = 'Unknown'\n",
    "coe_dredge_data['cubic_yards'] = coe_dredge_data['ACTUALCY']\n",
    "coe_dredge_data.loc[coe_dredge_data['cubic_yards'].isnull(), 'cubic_yards'] = 0\n",
    "coe_dredge_data['work_days'] = coe_dredge_data['NUMWKDY']\n",
    "coe_dredge_data.loc[coe_dredge_data['work_days'].isnull(), 'work_days'] = 0\n",
    "coe_dredge_data['cost'] = coe_dredge_data['ACTUAL_COS']\n",
    "coe_dredge_data.loc[coe_dredge_data['cost'].isnull(), 'cost'] = 0\n",
    "coe_dredge_data['production_rate'] = coe_dredge_data['cubic_yards']/coe_dredge_data['work_days']\n",
    "coe_dredge_data = coe_dredge_data[['FY', 'start_date', 'end_date', 'job_name', 'district_name', 'dredge_name',\n",
    "                                   'dredge_type', 'cost', 'cubic_yards', 'work_days', 'production_rate', 'geometry']]\n",
    "coe_dredge_data = coe_dredge_data.loc[coe_dredge_data['cubic_yards']>0]\n",
    "coe_dredge_data = coe_dredge_data.loc[coe_dredge_data['dredge_name']!=' ']\n",
    "coe_dredge_data"
   ]
  },
  {
   "cell_type": "code",
   "execution_count": null,
   "id": "965fe502",
   "metadata": {},
   "outputs": [],
   "source": [
    "coe_dredge_data.groupby('dredge_name').count()"
   ]
  },
  {
   "cell_type": "code",
   "execution_count": null,
   "id": "7ed22a66",
   "metadata": {},
   "outputs": [],
   "source": [
    "for name, dredge in coe_dredge_data.groupby('dredge_name'):\n",
    "    for district_name, district in dredge.groupby(['district_name', 'dredge_type']):\n",
    "        print(name, district_name)\n",
    "        print(dredge['production_rate'].mean())"
   ]
  },
  {
   "cell_type": "markdown",
   "id": "31378633",
   "metadata": {},
   "source": [
    "# Model Creation"
   ]
  },
  {
   "cell_type": "code",
   "execution_count": 82,
   "id": "eb26266b",
   "metadata": {},
   "outputs": [],
   "source": [
    "model = cp_model.CpModel()"
   ]
  },
  {
   "cell_type": "code",
   "execution_count": 83,
   "id": "a78a6350",
   "metadata": {},
   "outputs": [],
   "source": [
    "#Sets\n",
    "#====\n",
    "\n",
    "with open('32J/ExperimentInfo32j30DE.txt') as f:\n",
    "    lines = f.readlines()\n",
    "    J = int(lines[0])\n",
    "    D = int(lines[1])\n",
    "    T = int(lines[2])\n",
    "    W = int(lines[3])\n",
    "    B = int(lines[4])\n"
   ]
  },
  {
   "cell_type": "code",
   "execution_count": 84,
   "id": "12293787",
   "metadata": {},
   "outputs": [],
   "source": [
    "#Parameters\n",
    "#==========\n",
    "bw = {} #begining of restricted period\n",
    "ew = {} #end of restricted period\n",
    "rd = {} #operation rate of dredge d\n",
    "qj = {} #dredgin amount of job j\n",
    "tdj = {} #time in days for dredge d to complete job j\n",
    "tjj = {} #time for dredge d to move to job j to j'\n",
    "cj = {} #cost for completing job j\n",
    "\n",
    "for j in range(1, J+1):\n",
    "    bw[j] = []\n",
    "    ew[j] = []\n",
    "    \n",
    "with open('32J/RP.txt') as f:\n",
    "    for line in f:\n",
    "        line_split = line.split('\\t')\n",
    "        j = int(line_split[0])\n",
    "        bw[j].append(int(line_split[1]))\n",
    "        ew[j].append(int(line_split[2]))\n",
    "f.close()\n",
    "\n",
    "with open('32J/OpRates.txt') as f:\n",
    "    d = 1\n",
    "    for line in f:\n",
    "        if d > D:\n",
    "            break\n",
    "        else:\n",
    "            rd[d] = int(line)\n",
    "            d += 1\n",
    "f.close()\n",
    "\n",
    "with open('32J/JobSizes.txt') as f:\n",
    "    j = 1\n",
    "    for line in f:\n",
    "        qj[j] = int(line)\n",
    "        j+=1\n",
    "f.close()\n",
    "\n",
    "with open('32J/Cost.txt') as f:\n",
    "    j = 1\n",
    "    for line in f:\n",
    "        cj[j] = int(line)\n",
    "        j+=1\n",
    "f.close()\n",
    "\n",
    "for d in range(1, D+1):\n",
    "    for j in range(1, J+1):\n",
    "        tdj[d,j] = math.floor(qj[j] / rd[d]) + 1\n",
    "\n",
    "with open('32J/TravelTimeMatrix.txt') as f:\n",
    "    j1 = 1\n",
    "    for line in f:\n",
    "        line_split = line.split('\\t')\n",
    "        j2 = 1\n",
    "        for time in line_split:\n",
    "            tjj[j1,j2] = int(time)\n",
    "            j2+=1\n",
    "        j1+=1\n",
    "        \n",
    "restricted_period = {}\n",
    "w = 1\n",
    "for j in range(1, J+1):\n",
    "    restricted_period[j] = []\n",
    "    for b, e in zip(bw[j], ew[j]):\n",
    "        restricted_period[j].append(model.NewIntervalVar(b, e-b, e, 'restricted_period_{}'.format(w)))\n",
    "        w+=1"
   ]
  },
  {
   "cell_type": "code",
   "execution_count": 85,
   "id": "2d3008ed",
   "metadata": {},
   "outputs": [],
   "source": [
    "#Decision Variables\n",
    "#==================\n",
    "start_var = {}\n",
    "end_var = {}\n",
    "is_present = {}\n",
    "interval_var = {}\n",
    "precedence = {}\n",
    "for d in range(1, D+1):\n",
    "    for j in range(1, J+1):\n",
    "        start_var[d,j] = model.NewIntVar(0, T, 'start_{}_{}'.format(d,j))\n",
    "        end_var[d,j] = model.NewIntVar(0, T, 'end_{}_{}'.format(d,j))\n",
    "        is_present[d,j] = model.NewBoolVar('is_present_{}_{}'.format(d,j))\n",
    "        interval_var[d,j] = model.NewOptionalIntervalVar(start_var[d,j], tdj[d,j], end_var[d,j], is_present[d,j], 'interval_{}_{}'.format(d,j))\n",
    "        for j_ in range(1, J+1):\n",
    "            if j != j_:\n",
    "                precedence[d,j,j_] = model.NewBoolVar('precedence_{}_{}'.format(d,j))"
   ]
  },
  {
   "cell_type": "code",
   "execution_count": 86,
   "id": "bef664e7",
   "metadata": {},
   "outputs": [],
   "source": [
    "#Constraints\n",
    "#===========\n",
    "\n",
    "#One dredge per job\n",
    "for j in range(1, J+1):\n",
    "    model.Add(sum(is_present[d,j] for d in range(1, D+1)) <= 1)"
   ]
  },
  {
   "cell_type": "code",
   "execution_count": 87,
   "id": "de0d0145",
   "metadata": {},
   "outputs": [
    {
     "data": {
      "text/plain": [
       "<ortools.sat.python.cp_model.Constraint at 0x7fa8804a62b0>"
      ]
     },
     "execution_count": 87,
     "metadata": {},
     "output_type": "execute_result"
    }
   ],
   "source": [
    "#Budget Constraint\n",
    "#=================\n",
    "model.Add(sum(cj[j] * is_present[d,j] for d in range(1, D+1) for j in range(1, J+1)) <= B)"
   ]
  },
  {
   "cell_type": "code",
   "execution_count": 88,
   "id": "87c3380c",
   "metadata": {},
   "outputs": [],
   "source": [
    "#Dredge cant start another job until current one is finished\n",
    "#===========================================================\n",
    "for d in range(1, D+1):\n",
    "    model.AddNoOverlap([interval_var[d,j] for j in range(1, J+1)])\n",
    "    \n",
    "for d in range(1, D+1):\n",
    "    for j1 in range(1, J+1):\n",
    "        for j2 in range(1, J+1):\n",
    "            if j1 < j2:\n",
    "                model.Add(precedence[d,j1,j2] + precedence[d,j2,j1] == 1).OnlyEnforceIf([is_present[d,j1],is_present[d,j2]])\n",
    "            if j1 != j2:\n",
    "                model.Add(start_var[d,j2] >= end_var[d,j1] + tjj[j1,j2]).OnlyEnforceIf(precedence[d,j1,j2])\n"
   ]
  },
  {
   "cell_type": "code",
   "execution_count": 89,
   "id": "9c88837a",
   "metadata": {},
   "outputs": [],
   "source": [
    "#Job can't be performed in restricted period\n",
    "#===========================================\n",
    "\n",
    "for d in range(1, D+1):\n",
    "    for j in range(1, J+1):\n",
    "        for w in restricted_period[j]:\n",
    "            model.AddNoOverlap([interval_var[d,j], w])\n",
    "            "
   ]
  },
  {
   "cell_type": "code",
   "execution_count": 90,
   "id": "f820430e",
   "metadata": {},
   "outputs": [],
   "source": [
    "#Completion Time cannot exceed planning horizon\n",
    "#==============================================\n",
    "for d in range(1, D+1):\n",
    "    for j in range(1, J+1):\n",
    "        model.Add( end_var[d,j] <= T )"
   ]
  },
  {
   "cell_type": "code",
   "execution_count": 91,
   "id": "73054960",
   "metadata": {},
   "outputs": [],
   "source": [
    "#Objective\n",
    "#=========\n",
    "model.Maximize(sum(qj[j] * is_present[d,j] for d in range(1, D+1) for j in range(1,J+1)))"
   ]
  },
  {
   "cell_type": "code",
   "execution_count": 92,
   "id": "bee1d571",
   "metadata": {},
   "outputs": [],
   "source": [
    "solver = cp_model.CpSolver()\n",
    "solver.parameters.max_time_in_seconds = 10.0\n",
    "solver.parameters.enumerate_all_solutions = True\n",
    "status = solver.Solve(model)"
   ]
  },
  {
   "cell_type": "code",
   "execution_count": 93,
   "id": "5412af0d",
   "metadata": {},
   "outputs": [
    {
     "data": {
      "text/plain": [
       "8413704.0"
      ]
     },
     "execution_count": 93,
     "metadata": {},
     "output_type": "execute_result"
    }
   ],
   "source": [
    "solver.ObjectiveValue()"
   ]
  },
  {
   "cell_type": "code",
   "execution_count": 95,
   "id": "3b517f3d",
   "metadata": {},
   "outputs": [
    {
     "name": "stdout",
     "output_type": "stream",
     "text": [
      "Dredge 8 performing job 3 at time 60 - 62 (2)\n",
      "Dredge 9 performing job 7 at time 0 - 14 (14)\n",
      "Dredge 10 performing job 1 at time 0 - 133 (133)\n",
      "Dredge 11 performing job 10 at time 0 - 2 (2)\n",
      "Dredge 12 performing job 5 at time 0 - 126 (126)\n",
      "Dredge 12 performing job 12 at time 151 - 179 (28)\n",
      "Dredge 13 performing job 13 at time 0 - 22 (22)\n",
      "Dredge 14 performing job 14 at time 0 - 62 (62)\n",
      "Dredge 15 performing job 9 at time 0 - 77 (77)\n",
      "Dredge 15 performing job 16 at time 151 - 182 (31)\n",
      "Dredge 16 performing job 17 at time 0 - 18 (18)\n",
      "Dredge 17 performing job 18 at time 0 - 57 (57)\n",
      "Dredge 18 performing job 20 at time 334 - 343 (9)\n",
      "Dredge 19 performing job 21 at time 0 - 2 (2)\n",
      "Dredge 20 performing job 22 at time 0 - 4 (4)\n",
      "Dredge 21 performing job 23 at time 0 - 5 (5)\n",
      "Dredge 22 performing job 24 at time 0 - 78 (78)\n",
      "Dredge 23 performing job 25 at time 273 - 310 (37)\n",
      "Dredge 24 performing job 26 at time 0 - 20 (20)\n",
      "Dredge 25 performing job 27 at time 0 - 3 (3)\n",
      "Dredge 26 performing job 28 at time 60 - 73 (13)\n",
      "Dredge 27 performing job 29 at time 134 - 141 (7)\n",
      "Dredge 28 performing job 2 at time 176 - 229 (53)\n",
      "Dredge 28 performing job 30 at time 0 - 5 (5)\n",
      "Dredge 29 performing job 32 at time 166 - 181 (15)\n",
      "Dredge 30 performing job 4 at time 213 - 331 (118)\n",
      "Dredge 30 performing job 8 at time 0 - 10 (10)\n",
      "Dredge 30 performing job 31 at time 336 - 346 (10)\n",
      "51172308\n"
     ]
    }
   ],
   "source": [
    "cost = []\n",
    "for d in range(1, D+1):\n",
    "    for j in range(1, J+1):\n",
    "        if solver.Value(is_present[d,j]) == 1:\n",
    "            print('Dredge {} performing job {} at time {} - {} ({} days)'.format(d,j,solver.Value(start_var[d,j]), solver.Value(end_var[d,j]), tdj[d,j]))\n",
    "            cost.append(cj[j])\n",
    "print(sum(cost))"
   ]
  }
 ],
 "metadata": {
  "kernelspec": {
   "display_name": "Python 3",
   "language": "python",
   "name": "python3"
  },
  "language_info": {
   "codemirror_mode": {
    "name": "ipython",
    "version": 3
   },
   "file_extension": ".py",
   "mimetype": "text/x-python",
   "name": "python",
   "nbconvert_exporter": "python",
   "pygments_lexer": "ipython3",
   "version": "3.9.5"
  }
 },
 "nbformat": 4,
 "nbformat_minor": 5
}
